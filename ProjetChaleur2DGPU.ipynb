{
 "cells": [
  {
   "cell_type": "markdown",
   "metadata": {},
   "source": [
    "<div class=\"labtitle\">Projet : résolution de l'équation de la chaleur en 2D sur un rectange </div>\n",
    "<div class=\"labauthor\">This lab has been created by Pr. [Michaël Krajecki](mailto:michael.krajecki@univ-reims.fr) (University of Reims, CReSTIC and ROMEO HPC Centre)\n",
    "</div>\n",
    "\n",
    "Follow [@KrajeckiMichael](https://twitter.com/@krajeckimichael) and [@HPCromeo](https://twitter.com/@hpcromeo) on Twitter."
   ]
  },
  {
   "cell_type": "markdown",
   "metadata": {},
   "source": [
    "# Objectifs du projet\n",
    "\n",
    "Ce projet rentre dans le cadre de l'évaluation de l'EC CHPS0811. \n",
    "\n",
    "Vous réaliserez l'ensemble des développements et des expérimentations par l'intermédiare de ce notebook qui sera le seul élément pris en compte pour l'évaluation.\n",
    "\n",
    "A la fin du semestre, votre travail fera l'objet d'une présentation orale.\n",
    "\n",
    "Vous travaillerez en binôme. Chaque binôme m’enverra un email avant le **1er mars, délai de rigueur,** pour m’informer de sa constitution. \n",
    "\n",
    "![EquationChaleur2D](http://python-prepa.github.io/_images/plot_edp5_2D_heat_vect_1.png)\n",
    "Source de l'image : [ENS Paris](http://python-prepa.github.io/edp_chaleur.html)\n",
    "\n",
    "Votre objectif est de produire un **code C CUDA qui proposera une résolution efficace sur 1 GPU** de l'équation de la chaleur en 2D sur un rectange.\n",
    "\n",
    "Pour cela, vous avez à votre disposition quelques liens internet qui vous présente :\n",
    "- le problème et sa résolution mathématique ;\n",
    "- les approches classiques de résolution informatique.\n",
    "\n",
    "En pratique, vous proposerez :\n",
    "1. Un code C séquentiel de résolution de l'équation en 2D\n",
    "2. Un code C OpenMP de résolution parallèle\n",
    "3. Un code C CUDA de résolution de l'équation sur 1 GPU\n",
    "4. Vous menerez une évaluation des performances entre ces différentes versions en tenant compte (a) du nombre de coeurs de calcul utilisés (b) de la taille du problème (c) des choix de répertations des calculs sur GPU\n",
    "5. En vous appuyant sur les exemples fournis dans le lab *DocumentationROMEOLAB* vous proposerez une animation afin de visualiser la diffusion de la chaleur\n",
    "6. De façon optionnelle, vous pourrez prosposer une résolution multi-GPU\n",
    "\n",
    "**Mardi 26 février**, en début de cours, je répondrai à vos questions.\n",
    "\n",
    "## Version de cuda et du compilateur Intel\n",
    "\n",
    "Vous travaillerez uniquement avec la version [CUDA 9.0](https://docs.nvidia.com/cuda/archive/9.0/) et le compilateur [Intel 2017](https://software.intel.com/en-us/c-compilers/documentation/view-all)\n",
    "\n",
    "Les cellules suivantes vous permettent de vérifier que les compilateurs et les ressources matérielles sont disponibles dans ce notebook.\n"
   ]
  },
  {
   "cell_type": "code",
   "execution_count": null,
   "metadata": {
    "collapsed": true
   },
   "outputs": [],
   "source": [
    "%%bash\n",
    "echo $HOSTNAME\n",
    "echo \"Version du compilateur Intel C++\"\n",
    "icc --version"
   ]
  },
  {
   "cell_type": "code",
   "execution_count": null,
   "metadata": {
    "collapsed": true
   },
   "outputs": [],
   "source": [
    "%%bash\n",
    "echo $HOSTNAME\n",
    "echo \"Version du compilateur NVIDIA CUDA\"\n",
    "nvcc --version"
   ]
  },
  {
   "cell_type": "code",
   "execution_count": null,
   "metadata": {
    "collapsed": true
   },
   "outputs": [],
   "source": [
    "%%bash\n",
    "echo $HOSTNAME\n",
    "nvidia-smi"
   ]
  },
  {
   "cell_type": "markdown",
   "metadata": {},
   "source": [
    "## L'équation de la chaleur ?\n",
    "\n",
    "Dans cette section, vous pourrez parcourir quelques liens internet qui vous permettront de comprendre l'équation de la chaleur.\n",
    "\n",
    "Dans un premier temps, je vous conseille de regarder la vidéo de Christophe Finot qui décrit le principe de la diffusion de la chaleur en une dimension (sur une barre).\n"
   ]
  },
  {
   "cell_type": "code",
   "execution_count": null,
   "metadata": {
    "collapsed": true
   },
   "outputs": [],
   "source": [
    "from IPython.display import IFrame\n",
    "IFrame('https://www.youtube.com/embed/EzAlblWb0jg', width=960, height=720)"
   ]
  },
  {
   "cell_type": "markdown",
   "metadata": {},
   "source": [
    "\n",
    "\n",
    "Sur [TangenteX](http://tangentex.com/EquationChaleur.htm), vous obtiendrez :\n",
    "* une description mathématique du problème\n",
    "* des algorithmes de résolution\n",
    "\n",
    "Je vous conseille également de parcourir cette [page](http://robert.mellet.pagesperso-orange.fr/diff/diff_01.htm) extraite [du pont Bachelier](http://robert.mellet.pagesperso-orange.fr/index.htm).\n",
    "\n",
    "## Une implémentation multi-GPU proposée par NVIDIA\n",
    "\n",
    "Maintenant que vous avez compris les principes de la résolution de l'équation de la chaleur en 2D, vous pourrez découvrir une présentation faite par [Jiri Kraus lors de GTC2018](http://on-demand-gtc.gputechconf.com/gtc-quicklink/eCVNLP6) qui vous présente comment il a résolu ce problème sur un serveur multi-GPU.\n",
    "\n",
    "Bien évidemment, il ne s'agit pas pour vous de reproduire exactement son code, mais plutôt de vous en inspirer pour réaliser votre propre implémentation."
   ]
  },
  {
   "cell_type": "markdown",
   "metadata": {},
   "source": [
    "## Votre projet\n",
    "A partir de ce point du lab, vous pouvez ajouter toutes les cellules que vous souhaitez pour mener à bien votre projet.\n",
    "En particulier, vous décrirez :\n",
    "* l'algorithme que vous avez mis en oeuvre\n",
    "* les différentes implémentations que vous avez réalisées\n",
    "* l'analyse expérimentale que vous avez menée\n",
    "\n",
    "Vous définirez une section pour chaque partie et version du code.\n",
    "\n",
    "Bon courage à tous"
   ]
  },
  {
   "cell_type": "markdown",
   "metadata": {},
   "source": [
    "# Réalisation\n",
    "## Préparation du code"
   ]
  },
  {
   "cell_type": "code",
   "execution_count": null,
   "metadata": {},
   "outputs": [],
   "source": [
    "%%bash\n",
    "# extract archive to update files (no git possible)\n",
    "mkdir -p code/build\n",
    "cd code/ && rm -rf *\n",
    "cd ../\n",
    "tar xvf progGpu.tar.gz -C code/\n",
    "cd code/build && rm -rf *\n",
    "module load cmake/3.9.1 opencv/3.2.0\n",
    "cd ../\n",
    "# génération du Makefile\n",
    "./generateCmake.sh"
   ]
  },
  {
   "cell_type": "markdown",
   "metadata": {},
   "source": [
    "## Exemple séquentiel"
   ]
  },
  {
   "cell_type": "code",
   "execution_count": null,
   "metadata": {},
   "outputs": [
    {
     "name": "stdout",
     "output_type": "stream",
     "text": [
      "Scanning dependencies of target Prog\n",
      "[ 20%] Building C object CMakeFiles/Prog.dir/omp_seq_code/mainOMP.c.o\n",
      "[ 40%] Building C object CMakeFiles/Prog.dir/omp_seq_code/run_functions.c.o\n",
      "[ 60%] Building C object CMakeFiles/Prog.dir/omp_seq_code/compute_functions.c.o\n",
      "[ 80%] Building C object CMakeFiles/Prog.dir/omp_seq_code/images.c.o\n",
      "[100%] Linking C executable Prog\n",
      "[100%] Built target Prog\n"
     ]
    }
   ],
   "source": [
    "%%bash\n",
    "# compilation\n",
    "module load cmake/3.9.1 opencv/3.2.0 gcc/7.2.0\n",
    "cd code/\n",
    "./clean.sh\n",
    "./build.sh Prog\n",
    "OMP_NUM_THREADS=1 time ./prog config.conf"
   ]
  },
  {
   "cell_type": "code",
   "execution_count": null,
   "metadata": {
    "collapsed": true
   },
   "outputs": [],
   "source": [
    "import os\n",
    "from IPython.display import Image, display\n",
    "from ipywidgets import interact, IntSlider\n",
    "def display_result(rep):\n",
    "    imgs = sorted([i for i in os.listdir(rep) if i.find('.png')>0])\n",
    "    def loadimg(image):\n",
    "        display(Image(open(os.path.join(rep, imgs[image]),'rb').read()))\n",
    "        print(imgs[image])\n",
    "    kslider = IntSlider(min=0,max=len(imgs)-1,step=1,value=3)\n",
    "    return interact(loadimg ,image=kslider)\n",
    "display_result('code/images');"
   ]
  },
  {
   "cell_type": "markdown",
   "metadata": {},
   "source": [
    "## Exemple OpenMP"
   ]
  },
  {
   "cell_type": "code",
   "execution_count": null,
   "metadata": {},
   "outputs": [],
   "source": [
    "%%bash\n",
    "# compilation\n",
    "module load cmake/3.9.1 opencv/3.2.0 gcc/7.2.0\n",
    "cd code/\n",
    "./clean.sh\n",
    "./build.sh Prog\n",
    "time ./prog config.conf"
   ]
  },
  {
   "cell_type": "code",
   "execution_count": null,
   "metadata": {
    "collapsed": true
   },
   "outputs": [],
   "source": [
    "import os\n",
    "from IPython.display import Image, display\n",
    "from ipywidgets import interact, IntSlider\n",
    "def display_result(rep):\n",
    "    imgs = sorted([i for i in os.listdir(rep) if i.find('.png')>0])\n",
    "    def loadimg(image):\n",
    "        display(Image(open(os.path.join(rep, imgs[image]),'rb').read()))\n",
    "        print(imgs[image])\n",
    "    kslider = IntSlider(min=0,max=len(imgs)-1,step=1,value=3)\n",
    "    return interact(loadimg ,image=kslider)\n",
    "display_result('code/images');"
   ]
  },
  {
   "cell_type": "code",
   "execution_count": null,
   "metadata": {},
   "outputs": [],
   "source": [
    "%%bash\n",
    "# clean pictures\n",
    "cd code/images\n",
    "rm *.png"
   ]
  },
  {
   "cell_type": "markdown",
   "metadata": {
    "collapsed": true
   },
   "source": [
    "## Exemple CUDA"
   ]
  },
  {
   "cell_type": "code",
   "execution_count": null,
   "metadata": {},
   "outputs": [],
   "source": [
    "%%bash\n",
    "module load cmake/3.9.1 opencv/3.2.0\n",
    "cd code/\n",
    "./clean.sh\n",
    "./build.sh ProgGPU"
   ]
  },
  {
   "cell_type": "code",
   "execution_count": null,
   "metadata": {},
   "outputs": [],
   "source": [
    "%%bash\n",
    "module load gcc/7.2.0\n",
    "cd code/\n",
    "cuda-memcheck prog config.conf"
   ]
  },
  {
   "cell_type": "markdown",
   "metadata": {},
   "source": [
    "### Modélisation\n",
    "On reprend le même code que pour OpenMP/séquentiel (en enlevant les pragmas, les boucles for, etc.), on ajoute ensuite les identifiants de blocs, etc…\n",
    "\n",
    "Le calcul des dimensions du kernel n'a pas de justification : le code CUDA présente des erreurs avec le contrôle de cuda-memcheck.\n",
    "\n",
    "# Conclusion\n",
    "Les grosses difficultés étaient : de configurer correctement mon CMakeLists, d'essayer de comprendre le sujet et l'adapter.\n",
    "\n",
    "Au final, j'ai choisi la version du lab d'OpenACC. Aussi, s'il était possible de faire une version OpenACC du projet, je pense que nous aurions réussi beaucoup plus facilement et rapidement à tirer de la performance du code, notamment avec la mémoire partagée des threads (directive cache pour OpenAcc il me semble)"
   ]
  }
 ],
 "metadata": {
  "kernelspec": {
   "display_name": "Python 3",
   "language": "python",
   "name": "python3"
  },
  "language_info": {
   "codemirror_mode": {
    "name": "ipython",
    "version": 3
   },
   "file_extension": ".py",
   "mimetype": "text/x-python",
   "name": "python",
   "nbconvert_exporter": "python",
   "pygments_lexer": "ipython3",
   "version": "3.5.3"
  },
  "toc": {
   "colors": {
    "hover_highlight": "#DAA520",
    "running_highlight": "#FF0000",
    "selected_highlight": "#FFD700"
   },
   "moveMenuLeft": true,
   "nav_menu": {
    "height": "189px",
    "width": "252px"
   },
   "navigate_menu": true,
   "number_sections": true,
   "sideBar": true,
   "threshold": 4,
   "toc_cell": false,
   "toc_number_sections": true,
   "toc_section_display": "block",
   "toc_threshold": 6,
   "toc_window_display": true
  }
 },
 "nbformat": 4,
 "nbformat_minor": 1
}
